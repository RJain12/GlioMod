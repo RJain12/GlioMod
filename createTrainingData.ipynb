{
 "cells": [
  {
   "cell_type": "code",
   "execution_count": 2,
   "metadata": {},
   "outputs": [
    {
     "name": "stderr",
     "output_type": "stream",
     "text": [
      "pixdim[1,2,3] should be non-zero; setting 0 dims to 1\n"
     ]
    }
   ],
   "source": [
    "# import packages\n",
    "from async_generator import yield_\n",
    "import numpy as np\n",
    "import os\n",
    "import nibabel as nib\n",
    "from matplotlib import pyplot as plt\n",
    "import random\n",
    "\n",
    "# define the input directory containing the patient folders (i.e. P1-8)\n",
    "cwd = os.getcwd()\n",
    "input_directory = os.path.join(cwd,'procData')\n",
    "slice = os.path.join(input_directory,'slice.nii')\n",
    "\n",
    "slice_mask = nib.load(slice)\n",
    "slice_mask = slice_mask.get_fdata()"
   ]
  },
  {
   "cell_type": "code",
   "execution_count": null,
   "metadata": {},
   "outputs": [],
   "source": [
    "for root, subdirectories, files in os.walk(input_directory):\n",
    "    for subdirectory in subdirectories:\n",
    "        current_patient = os.path.join(root, subdirectory)\n",
    "\n",
    "        # Get masks of the white matter and gray matter\n",
    "        gm_img = nib.load(os.path.join(current_patient, 'GM.nii'))\n",
    "        wm_img = nib.load(os.path.join(current_patient, 'WM.nii'))\n",
    "        csf_mask = nib.load(os.path.join(current_patient, 'CSF.nii'))\n",
    "\n",
    "        # Convert to array of data\n",
    "        gm_img = gm_img.get_fdata()\n",
    "        wm_img = wm_img.get_fdata()\n",
    "        csf_mask = csf_mask.get_fdata()\n",
    "\n",
    "        csf_mask[np.where(csf_mask != 0)] = 1\n",
    "\n",
    "        random_choice = gm_img + wm_img\n",
    "        random_choice[np.where(random_choice > 0.5)] = 1\n",
    "        random_choice[np.where(random_choice != 1)] = 0\n",
    "\n",
    "        # run the loop 100 times\n",
    "        for i in range(100):\n",
    "            while(True):\n",
    "                z = random.randint(130,170)\n",
    "                x,y = random.choice(np.argwhere(random_choice[:,:,z] == 1))\n",
    "                #check to see if mask is in csf, if so, restart loop.\n",
    "                if (csf_mask[x,y,z] == 1):\n",
    "                    continue\n",
    "                # check to see if it is part of the blob; if not, restart loop.\n",
    "                elif (slice_mask[x,y] == 0):\n",
    "                    continue\n",
    "                else:\n",
    "                    # run gliomasolver\n",
    "                    OMP_NUM_THREADS = 4\n",
    "                    program = \"brain\"\n",
    "                    model = \"RD\"\n",
    "                    verbose = 1\n",
    "                    profiler = 1\n",
    "                    adaptive = 1\n",
    "                    vtk = 1\n",
    "                    dumpfreq = 50\n",
    "                    PatFileName = current_patient\n",
    "\n",
    "                    Dw=0.0013\n",
    "                    rho=0.025\n",
    "                    Tend=500\n",
    "\n",
    "                    # scale x, y, and z to be a decimal to two places between 0 and 1\n",
    "                    icy = round(y/240, 2)\n",
    "                    icx = round(x/160, 2)\n",
    "                    icz = round(z/256, 2)\n",
    "\n",
    "                    print(\"In the directory {}\".format(current_patient))\n",
    "                    print(\"Running program on nodes {}\".format(OMP_NUM_THREADS))\n",
    "\n",
    "\n",
    "\n",
    "                    break\n",
    "\"\"\"\n",
    "#tumor parameters\n",
    "\n",
    "./$program -nthreads $N -model $model -profiler $profiler -verbose $verbose -adaptive $adaptive -PatFileName $PatFileName -vtk $vtk -dumpfreq $dumpfreq -Dw $Dw -rho $rho -Tend $Tend -icx $icx -icy $icy -icz $icz \n",
    "\n",
    "\"\"\""
   ]
  }
 ],
 "metadata": {
  "interpreter": {
   "hash": "aee8b7b246df8f9039afb4144a1f6fd8d2ca17a180786b69acc140d282b71a49"
  },
  "kernelspec": {
   "display_name": "Python 3.10.5 64-bit",
   "language": "python",
   "name": "python3"
  },
  "language_info": {
   "codemirror_mode": {
    "name": "ipython",
    "version": 3
   },
   "file_extension": ".py",
   "mimetype": "text/x-python",
   "name": "python",
   "nbconvert_exporter": "python",
   "pygments_lexer": "ipython3",
   "version": "3.10.5"
  },
  "orig_nbformat": 4
 },
 "nbformat": 4,
 "nbformat_minor": 2
}
